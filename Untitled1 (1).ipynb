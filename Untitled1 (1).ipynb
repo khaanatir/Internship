{
 "cells": [
  {
   "cell_type": "code",
   "execution_count": 2,
   "id": "0f2f3840-721e-42ab-99eb-8dbea89aa28e",
   "metadata": {},
   "outputs": [],
   "source": [
    "import re"
   ]
  },
  {
   "cell_type": "code",
   "execution_count": 3,
   "id": "bb752d3a-c51b-46cf-9fdd-3b08ba3d579a",
   "metadata": {},
   "outputs": [],
   "source": [
    "sample_text = 'Python Exercises, PHP exercises.'\n"
   ]
  },
  {
   "cell_type": "code",
   "execution_count": 12,
   "id": "67910ce1-77d8-4845-9d3e-31ce8acb83fb",
   "metadata": {},
   "outputs": [
    {
     "name": "stdout",
     "output_type": "stream",
     "text": [
      "Python:Exercises,:PHP:exercises.\n"
     ]
    }
   ],
   "source": [
    "x = re.sub(\"\\s\", ':', sample_text)\n",
    "print(x);"
   ]
  },
  {
   "cell_type": "code",
   "execution_count": 31,
   "id": "ed7d540d-0408-48e5-84b9-5b05c592691e",
   "metadata": {},
   "outputs": [
    {
     "name": "stdout",
     "output_type": "stream",
     "text": [
      "            SUMMARY\n",
      "0       hello world\n",
      "1        XXXXX test\n",
      "2  123four five six\n"
     ]
    }
   ],
   "source": [
    "import pandas as pd\n",
    "import re\n",
    "\n",
    "x = {'SUMMARY' : ['hello, world!', 'XXXXX test', '123four, five:; six...']}\n",
    "df = pd.DataFrame(x)\n",
    "def clean_text(text):\n",
    "  return re.sub(r'[^\\w\\s]', '', text)\n",
    "df['SUMMARY'] = df['SUMMARY'].apply(clean_text)\n",
    "print(df)\n"
   ]
  },
  {
   "cell_type": "code",
   "execution_count": 36,
   "id": "c9dcf727-61be-42eb-8acd-e9127d157bfd",
   "metadata": {},
   "outputs": [
    {
     "name": "stdout",
     "output_type": "stream",
     "text": [
      "['good', 'name', 'Atir']\n"
     ]
    }
   ],
   "source": [
    "import re\n",
    "sample = 'My good name is Atir.'\n",
    "pattern = re.compile(r'\\b\\w{4,}\\b')\n",
    "result = pattern.findall(sample)\n",
    "print(result)\n",
    "\n",
    "\n"
   ]
  },
  {
   "cell_type": "code",
   "execution_count": 40,
   "id": "f3b5b07e-7dc1-44fb-893f-3b2b492c5ab4",
   "metadata": {},
   "outputs": [
    {
     "name": "stdout",
     "output_type": "stream",
     "text": [
      "['The', 'Data', 'good', 'topic']\n"
     ]
    }
   ],
   "source": [
    "import re\n",
    "sample = 'The Data science is good topic'\n",
    "pattern = re.compile(r'\\b\\w{3,5}\\b')\n",
    "result = pattern.findall(sample)\n",
    "print(result)"
   ]
  },
  {
   "cell_type": "code",
   "execution_count": 62,
   "id": "a676b3ae-7dfa-4970-be18-d6c514bea389",
   "metadata": {},
   "outputs": [
    {
     "name": "stdout",
     "output_type": "stream",
     "text": [
      "example\n",
      "hr@fliprobo\n",
      "github\n",
      "Hello\n",
      "Data\n"
     ]
    }
   ],
   "source": [
    "import re\n",
    "def remove_parentheses(strings):\n",
    "    pattern = re.compile(r'\\s*\\([^)]*\\)\\s*')\n",
    "    strings = [pattern.sub('', s).replace(' ', '') if '.com' in s else pattern.sub('', s) for s in strings]\n",
    "    return strings\n",
    "sample_text = [\"example (.com)\", \"hr@fliprobo (.com)\", \"github (.com)\", \"Hello (Data Science World)\", \"Data (Scientist)\"]\n",
    "result = remove_parentheses(sample_text)\n",
    "for item in result:\n",
    "    print(item)\n",
    "\n",
    "    \n"
   ]
  },
  {
   "cell_type": "code",
   "execution_count": 70,
   "id": "11f4344a-37ff-46b0-82d3-cb071adfabad",
   "metadata": {},
   "outputs": [
    {
     "name": "stdout",
     "output_type": "stream",
     "text": [
      "['example', 'hr@fliprobo', 'github', 'Hello', 'Data']\n"
     ]
    }
   ],
   "source": [
    "import re\n",
    "\n",
    "def remove_parentheses_from_file(input_file, output_file):\n",
    "    pattern = re.compile(r'\\([^)]*\\)')\n",
    "    with open(input_file, 'r') as file:\n",
    "        lines = file.readlines()\n",
    "    cleaned_lines = [pattern.sub('', line).strip() for line in lines]\n",
    "    with open(output_file, 'w') as file:\n",
    "        for line in cleaned_lines:\n",
    "            file.write(f\"{line}\\n\")\n",
    "sample = [\"example (.com)\", \"hr@fliprobo (.com)\", \"github (.com)\", \"Hello (Data Science World)\", \"Data (Scientist)\"]\n",
    "input_file = 'sample.txt'\n",
    "output_file = 'cleaned_sample.txt'\n",
    "with open(input_file, 'w') as file:\n",
    "    for item in sample_text:\n",
    "        file.write(f\"{item}\\n\")\n",
    "remove_parentheses_from_file(input_file, output_file)\n",
    "with open(output_file, 'r') as file:\n",
    "    cleaned_content = file.readlines()\n",
    "    print([line.strip() for line in cleaned_content])\n",
    "\n"
   ]
  },
  {
   "cell_type": "code",
   "execution_count": 82,
   "id": "b5672108-b30f-4984-902c-45c0cbd7ab46",
   "metadata": {},
   "outputs": [
    {
     "name": "stdout",
     "output_type": "stream",
     "text": [
      "['Importance', 'Of', 'Regular', 'Expressions', 'In', 'Python']\n"
     ]
    }
   ],
   "source": [
    " import re\n",
    "def split_uppercase_words(text):\n",
    "    pattern = re.compile(r'(?<!^)(?=[A-Z])')\n",
    "    result = pattern.split(text)\n",
    "    return result\n",
    "sample = \"ImportanceOfRegularExpressionsInPython\"\n",
    "sentence = split_uppercase_words(sample)\n",
    "print(sentence)\n",
    "\n",
    "    \n",
    "    "
   ]
  },
  {
   "cell_type": "code",
   "execution_count": 117,
   "id": "5d73b12f-2cc7-40da-99cf-ae086cf3503f",
   "metadata": {},
   "outputs": [
    {
     "name": "stdout",
     "output_type": "stream",
     "text": [
      "['RegularExpression', '1IsAn', '2ImportantTopic', '3InPython']\n"
     ]
    }
   ],
   "source": [
    "import re\n",
    "def insert_spaces_before_numbers(text):\n",
    "    pattern = re.compile(r'(?=\\d)')\n",
    "    result = pattern.split(text)\n",
    "    return result\n",
    "sample = \"RegularExpression1IsAn2ImportantTopic3InPython\"\n",
    "sentence = insert_spaces_before_numbers(sample)\n",
    "print(sentence)"
   ]
  },
  {
   "cell_type": "code",
   "execution_count": 118,
   "id": "f226ca62-251c-47ae-96a4-63ed60eeb405",
   "metadata": {},
   "outputs": [
    {
     "name": "stdout",
     "output_type": "stream",
     "text": [
      "RegularExpression 1 IsAn 2 ImportantTopic 3 InPython\n"
     ]
    }
   ],
   "source": [
    "import re\n",
    "\n",
    "text = \"RegularExpression1IsAn2ImportantTopic3InPython\"\n",
    "output = re.sub(r'(\\d+)', r' \\1 ', text)\n",
    "print(output)"
   ]
  },
  {
   "cell_type": "code",
   "execution_count": 122,
   "id": "487ff13d-19b5-431b-92a9-932521555ff5",
   "metadata": {},
   "outputs": [
    {
     "name": "stdout",
     "output_type": "stream",
     "text": [
      "       Country          Region  Happiness Rank  Happiness Score  \\\n",
      "0  Switzerland  Western Europe               1            7.587   \n",
      "1      Iceland  Western Europe               2            7.561   \n",
      "2      Denmark  Western Europe               3            7.527   \n",
      "3       Norway  Western Europe               4            7.522   \n",
      "4       Canada   North America               5            7.427   \n",
      "\n",
      "   Standard Error  Economy (GDP per Capita)   Family  \\\n",
      "0         0.03411                   1.39651  1.34951   \n",
      "1         0.04884                   1.30232  1.40223   \n",
      "2         0.03328                   1.32548  1.36058   \n",
      "3         0.03880                   1.45900  1.33095   \n",
      "4         0.03553                   1.32629  1.32261   \n",
      "\n",
      "   Health (Life Expectancy)  Freedom  Trust (Government Corruption)  \\\n",
      "0                   0.94143  0.66557                        0.41978   \n",
      "1                   0.94784  0.62877                        0.14145   \n",
      "2                   0.87464  0.64938                        0.48357   \n",
      "3                   0.88521  0.66973                        0.36503   \n",
      "4                   0.90563  0.63297                        0.32957   \n",
      "\n",
      "   Generosity  Dystopia Residual first_five_letters  \n",
      "0     0.29678            2.51738             Switze  \n",
      "1     0.43630            2.70201             Icelan  \n",
      "2     0.34139            2.49204             Denmar  \n",
      "3     0.34699            2.46531             Norway  \n",
      "4     0.45811            2.45176             Canada  \n"
     ]
    }
   ],
   "source": [
    "import pandas as pd\n",
    "url = \"https://raw.githubusercontent.com/dsrscientist/DSData/master/happiness_score_dataset.csv\"\n",
    "df = pd.read_csv(url)\n",
    "df['first_five_letters'] = df['Country'].str[:6]\n",
    "print(df.head())\n"
   ]
  },
  {
   "cell_type": "code",
   "execution_count": 133,
   "id": "568cb996-20d9-4738-8df0-8a4c420c41e9",
   "metadata": {},
   "outputs": [
    {
     "name": "stdout",
     "output_type": "stream",
     "text": [
      "<function match_strings at 0x000001559907A200>\n"
     ]
    }
   ],
   "source": [
    "import re\n",
    "def match_strings(strings):\n",
    "    pattern =  r'^[a-zA-Z0-9_]+$'\n",
    "    if re.match(pattern, string):\n",
    "        return yes\n",
    "    else:\n",
    "        return no\n",
    "print(match_strings)\n",
    "        \n",
    "         \n",
    "    "
   ]
  },
  {
   "cell_type": "code",
   "execution_count": 65,
   "id": "61e3d1cd-644a-46ae-8eee-277c2cb86ff2",
   "metadata": {},
   "outputs": [
    {
     "name": "stdout",
     "output_type": "stream",
     "text": [
      "<function start_number at 0x000001701A7D74C0>\n"
     ]
    }
   ],
   "source": [
    "import re\n",
    "def start_number(string, number):\n",
    "    pattern = r'^' + re.escape(str(number))\n",
    "    if re.match(pattern, string):\n",
    "        return True\n",
    "    else:\n",
    "        return False\n",
    "print(start_number)\n",
    "\n",
    "    "
   ]
  },
  {
   "cell_type": "code",
   "execution_count": 182,
   "id": "94642ed0-8bac-4f9a-80f3-38bb15ba7848",
   "metadata": {},
   "outputs": [
    {
     "name": "stdout",
     "output_type": "stream",
     "text": [
      "192.168.1.1\n"
     ]
    }
   ],
   "source": [
    "import re\n",
    "ip = \"192.168.001.001\"\n",
    "def remove_zero(ip):\n",
    "    pattern = r'\\b0*(\\d+)\\b'\n",
    "    new_ip = re.sub(pattern, r'\\1', ip)\n",
    "    return new_ip\n",
    "print(remove_zero(ip))\n",
    "\n",
    "\n"
   ]
  },
  {
   "cell_type": "code",
   "execution_count": 64,
   "id": "974c8400-fe9d-4220-90c8-7604bc9d243d",
   "metadata": {},
   "outputs": [
    {
     "name": "stdout",
     "output_type": "stream",
     "text": [
      "August 15th 1947\n"
     ]
    }
   ],
   "source": [
    "import re\n",
    "date_pattern = r'\\b(?:January|February|March|April|May|June|July|August|September|October|November|December)\\s+\\d{1,2}(?:st|nd|rd|th)?(?:,|\\s+)\\d{4}\\b'\n",
    "dates = 'On August 15th 1947 that India was declared independent from British colonialism, and the reins of control were handed over to the leaders of the Country.'\n",
    "matches = re.findall(date_pattern, dates)\n",
    "for match in matches:\n",
    " print(match)\n"
   ]
  },
  {
   "cell_type": "code",
   "execution_count": 4,
   "id": "8372c551-854c-4512-8f80-101dce35822c",
   "metadata": {},
   "outputs": [
    {
     "name": "stdout",
     "output_type": "stream",
     "text": [
      "<re.Match object; span=(16, 19), match='fox'>\n",
      "<re.Match object; span=(40, 43), match='dog'>\n",
      "None\n"
     ]
    }
   ],
   "source": [
    "import re \n",
    "sample_text = 'The quick brown fox jumps over the lazy dog.'\n",
    "searched_words = ['fox', 'dog', 'horse']\n",
    "for word in searched_words:\n",
    "    pattern = r'\\b' + re.escape(word) + r'\\b'\n",
    "    result = re.search(pattern, sample_text)\n",
    "    print(result)"
   ]
  },
  {
   "cell_type": "code",
   "execution_count": 3,
   "id": "8659c611-6eac-479f-9c53-430ac014c68f",
   "metadata": {},
   "outputs": [
    {
     "name": "stdout",
     "output_type": "stream",
     "text": [
      "[16]\n"
     ]
    }
   ],
   "source": [
    "import re\n",
    "\n",
    "def find_substring_locations(text, pattern):\n",
    "    locations = [match.start() for match in re.finditer(re.escape(pattern), text)]\n",
    "    return locations\n",
    "sample_text = 'The quick brown fox jumps over the lazy dog.'\n",
    "searched_word = 'fox'\n",
    "result = find_substring_locations(sample_text, searched_word)\n",
    "print(result)\n"
   ]
  },
  {
   "cell_type": "code",
   "execution_count": 13,
   "id": "707ef280-4bf8-4364-bfd3-d8a0e5c3c42e",
   "metadata": {},
   "outputs": [
    {
     "name": "stdout",
     "output_type": "stream",
     "text": [
      "[7, 22, 36]\n"
     ]
    }
   ],
   "source": [
    "import re\n",
    "\n",
    "def find_substring_locations(text, pattern):\n",
    "    locations = [match.start() for match in re.finditer(re.escape(pattern), text)]\n",
    "    return locations\n",
    "sample_text = 'Python exercises, PHP exercises, C# exercises'\n",
    "searched_pattern = 'exercises'\n",
    "result = find_substring_locations(sample_text, searched_pattern)\n",
    "print(result)\n"
   ]
  },
  {
   "cell_type": "code",
   "execution_count": 16,
   "id": "2c25abae-c2dd-404a-a5a4-e81b40c3cf76",
   "metadata": {},
   "outputs": [],
   "source": [
    "import re\n",
    "\n",
    "def find_occurrences(string, substring):\n",
    "    pattern = re.escape(substring)\n",
    "    matches = re.finditer(pattern, string)\n",
    "    occurrences = [(match.start(), match.end()) for match in matches]\n",
    "    for i, (start, end) in enumerate(occurrences, start=1):\n",
    "        print(f\"Occurrence {i}:\")\n",
    "        print(f\"  Position: {start}-{end-1}\")\n",
    "        print(f\"  Substring: {string[start:end]}\")\n",
    "        print()"
   ]
  },
  {
   "cell_type": "code",
   "execution_count": 30,
   "id": "51b72f2c-c3cd-4866-a173-7e556295f264",
   "metadata": {},
   "outputs": [
    {
     "name": "stdout",
     "output_type": "stream",
     "text": [
      "Converted date: 30-08-1995\n",
      "30-08-1995\n"
     ]
    }
   ],
   "source": [
    "import re\n",
    "\n",
    "def convert_date_format(date_str):\n",
    "    match = re.match(r'(\\d{4})-(\\d{2})-(\\d{2})', date_str)\n",
    "    if match:\n",
    "        year, month, day = match.groups()\n",
    "        converted_date = f\"{day}-{month}-{year}\"\n",
    "        print(\"Converted date:\", converted_date)\n",
    "        return converted_date\n",
    "    else:\n",
    "        return \"Invalid.\"\n",
    "\n",
    "date_str = \"1995-08-30\"\n",
    "converted_date = convert_date_format(date_str)\n",
    "print(converted_date)"
   ]
  },
  {
   "cell_type": "code",
   "execution_count": 32,
   "id": "3df5daca-2ba1-4454-9cc2-cb6929919db8",
   "metadata": {},
   "outputs": [
    {
     "name": "stdout",
     "output_type": "stream",
     "text": [
      "['01.12', '145.8', '3.01', '27.25', '0.25']\n"
     ]
    }
   ],
   "source": [
    "import re\n",
    "def find_decimal_numbers(text):\n",
    "    pattern = re.compile(r'\\b\\d+\\.\\d{1,2}\\b')\n",
    "    matches = pattern.findall(text)\n",
    "    return matches\n",
    "sample_text = \"01.12 0132.123 2.31875 145.8 3.01 27.25 0.25\"\n",
    "result = find_decimal_numbers(sample_text)\n",
    "print(result)\n"
   ]
  },
  {
   "cell_type": "code",
   "execution_count": 33,
   "id": "dcedaa6a-dded-4126-b800-5c7f8b7a7482",
   "metadata": {},
   "outputs": [],
   "source": [
    "import re\n",
    "def match_numbers_and_positions(text):\n",
    "    matches = re.finditer(r'\\d', text)\n",
    "    for match in matches:\n",
    "        digit = match.group()\n",
    "        position = match.start()\n",
    "        print(f\"Digit: {digit}, Position: {position}\")\n",
    "    "
   ]
  },
  {
   "cell_type": "code",
   "execution_count": 36,
   "id": "8c1a5997-c852-478e-a981-f1aebcd8d07e",
   "metadata": {},
   "outputs": [
    {
     "name": "stdout",
     "output_type": "stream",
     "text": [
      "950\n"
     ]
    }
   ],
   "source": [
    "import re\n",
    "sample_text = 'My marks in each semester are: 947, 896, 926, 524, 734, 950, 642'\n",
    "def maximum_numeric_value(text):\n",
    "    numeric_values = re.findall(r'\\d+', text)\n",
    "    if numeric_values:\n",
    "        max_numeric_value = max(map(int, numeric_values))\n",
    "        return max_numeric_value\n",
    "    else:\n",
    "        return None\n",
    "max_value = maximum_numeric_value(sample_text)\n",
    "print(max_value)\n"
   ]
  },
  {
   "cell_type": "code",
   "execution_count": 37,
   "id": "c79bf25f-a0e6-4080-a6e6-3a1055d12659",
   "metadata": {},
   "outputs": [
    {
     "name": "stdout",
     "output_type": "stream",
     "text": [
      "Regular Expression Is An Important Topic In Python\n"
     ]
    }
   ],
   "source": [
    "import re\n",
    "def insert_spaces(text):\n",
    "    return re.sub(r'([A-Z])', r' \\1', text).strip()\n",
    "sample = \"RegularExpressionIsAnImportantTopicInPython\"\n",
    "output = insert_spaces(sample)\n",
    "print(output)"
   ]
  },
  {
   "cell_type": "code",
   "execution_count": 41,
   "id": "c43896b2-9082-46cf-9082-5e55781c837f",
   "metadata": {},
   "outputs": [
    {
     "name": "stdout",
     "output_type": "stream",
     "text": [
      "['My', 'Name', 'Is']\n"
     ]
    }
   ],
   "source": [
    "import re\n",
    "text = \"My Name Is AATIR.\"\n",
    "pattern = r'[A-Z][a-z]+'\n",
    "matches = re.findall(pattern, text)\n",
    "print(matches)\n"
   ]
  },
  {
   "cell_type": "code",
   "execution_count": 50,
   "id": "1a4d0fdd-8ec3-4ad1-bf60-5c289b91df22",
   "metadata": {},
   "outputs": [
    {
     "name": "stdout",
     "output_type": "stream",
     "text": [
      "Hello hello world\n"
     ]
    }
   ],
   "source": [
    "import re\n",
    "def remove_continuous_duplicates_except_first(sentence):\n",
    "    pattern = r'\\b(\\w+)\\b(\\s+\\1\\b)+'\n",
    "    result = re.sub(pattern, r'\\1', sentence)\n",
    "    return result\n",
    "text = \"Hello hello world world\"\n",
    "output = remove_continuous_duplicates_except_first(text)\n",
    "print(output)\n"
   ]
  },
  {
   "cell_type": "code",
   "execution_count": 63,
   "id": "c174ffc4-7f63-46bd-ae49-6e9b3e4a8b6b",
   "metadata": {},
   "outputs": [
    {
     "name": "stdout",
     "output_type": "stream",
     "text": [
      "True\n"
     ]
    }
   ],
   "source": [
    "import re\n",
    "def alphanumeric_ending(string):\n",
    "    pattern = r'.*[a-zA-Z0-9]$'\n",
    "    if re.match(pattern, string):\n",
    "        return True\n",
    "    else:\n",
    "        return False\n",
    "test = \"aatir1234\"\n",
    "result = alphanumeric_ending(test)\n",
    "print(result)\n"
   ]
  },
  {
   "cell_type": "code",
   "execution_count": 66,
   "id": "17fdb265-e4be-443f-8e18-f470ccb0941c",
   "metadata": {},
   "outputs": [
    {
     "name": "stdout",
     "output_type": "stream",
     "text": [
      "['#Doltiwal', '#xyzabc', '#Demonetization']\n"
     ]
    }
   ],
   "source": [
    "import re\n",
    "def get_hashtags(text):\n",
    "    pattern = r'#\\w+'\n",
    "    hashtags = re.findall(pattern, text)\n",
    "    return hashtags\n",
    "text = \"\"\"RT @kapil_kausik: #Doltiwal I mean #xyzabc is \"hurt\" by #Demonetization as the same has rendered USELESS <ed><U+00A0><U+00BD><ed><U+00B1><U+0089> \"acquired funds\" No wo\"\"\"\n",
    "hashtags = get_hashtags(text)\n",
    "print(hashtags)\n"
   ]
  },
  {
   "cell_type": "code",
   "execution_count": 74,
   "id": "956531b1-632d-4c92-a62f-8d40d282710e",
   "metadata": {},
   "outputs": [
    {
     "name": "stdout",
     "output_type": "stream",
     "text": [
      "@Jags123456 Bharat band on 28??<ed><ed>Those who are protesting #demonetization are all different party leaders\n"
     ]
    }
   ],
   "source": [
    "import re\n",
    "text = \"@Jags123456 Bharat band on 28??<ed><U+00A0><U+00BD><ed><U+00B8><U+0082>Those who are protesting #demonetization are all different party leaders\"\n",
    "def remove_unicode_symbols(text):\n",
    "    pattern = r'<U\\+[A-F0-9]{4}>'\n",
    "    cleaned_text = re.sub(pattern, '', text)\n",
    "    return cleaned_text\n",
    "cleaned_text = remove_unicode_symbols(text)\n",
    "print(cleaned_text)\n"
   ]
  },
  {
   "cell_type": "code",
   "execution_count": 79,
   "id": "99f14988-84da-47d9-a064-6eb24cfdeac9",
   "metadata": {},
   "outputs": [
    {
     "name": "stdout",
     "output_type": "stream",
     "text": [
      "Extracted Dates:\n",
      "12-09-1992\n",
      "15-12-1999\n"
     ]
    }
   ],
   "source": [
    "import re\n",
    "sample_text = \"\"\"Ron was born on 12-09-1992 and he was admitted to school 15-12-1999.\"\"\"\n",
    "def extract_dates(file_path):\n",
    "    with open(file_path, 'r') as file:\n",
    "        text = file.read()\n",
    "    pattern = r'\\b\\d{2}-\\d{2}-\\d{4}\\b'\n",
    "    dates = re.findall(pattern, text)\n",
    "    return dates\n",
    "file_path = 'sample_text.txt'\n",
    "with open(file_path, 'w') as file:\n",
    "    file.write(sample_text)\n",
    "dates = extract_dates(file_path)\n",
    "print(\"Extracted Dates:\")\n",
    "for date in dates:\n",
    "    print(date)\n"
   ]
  },
  {
   "cell_type": "code",
   "execution_count": 80,
   "id": "1459637a-246e-42c8-8c22-f5e8f5251ae3",
   "metadata": {},
   "outputs": [
    {
     "name": "stdout",
     "output_type": "stream",
     "text": [
      " following example creates  ArrayList  a capacity   elements. 4 elements   added   ArrayList   ArrayList  trimmed accordingly.\n"
     ]
    }
   ],
   "source": [
    "import re\n",
    "sample_text = \"The following example creates an ArrayList with a capacity of 50 elements. 4 elements are then added to the ArrayList and the ArrayList is trimmed accordingly.\"\n",
    "def remove_words(text):\n",
    "    pattern = re.compile(r'\\b\\w{2,4}\\b')\n",
    "    clean_text = pattern.sub('', text)\n",
    "    return clean_text\n",
    "clean_text = remove_words(sample_text)\n",
    "print(clean_text)\n"
   ]
  },
  {
   "cell_type": "code",
   "execution_count": null,
   "id": "ff802f10-d4b3-4a5c-ace1-a0dec4f92dc1",
   "metadata": {},
   "outputs": [],
   "source": []
  }
 ],
 "metadata": {
  "kernelspec": {
   "display_name": "Python 3 (ipykernel)",
   "language": "python",
   "name": "python3"
  },
  "language_info": {
   "codemirror_mode": {
    "name": "ipython",
    "version": 3
   },
   "file_extension": ".py",
   "mimetype": "text/x-python",
   "name": "python",
   "nbconvert_exporter": "python",
   "pygments_lexer": "ipython3",
   "version": "3.11.7"
  }
 },
 "nbformat": 4,
 "nbformat_minor": 5
}
